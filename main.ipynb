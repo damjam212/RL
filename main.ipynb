{
  "cells": [
    {
      "cell_type": "markdown",
      "metadata": {
        "id": "MpkYHwCqk7W-"
      },
      "source": [
        "![MuJoCo banner](https://raw.githubusercontent.com/google-deepmind/mujoco/main/banner.png)\n",
        "\n",
        "# <h1><center>Tutorial  <a href=\"https://colab.research.google.com/github/google-deepmind/mujoco/blob/main/mjx/tutorial.ipynb\"><img src=\"https://colab.research.google.com/assets/colab-badge.svg\" width=\"140\" align=\"center\"/></a></center></h1>\n",
        "\n",
        "This notebook provides an introductory tutorial for [**MuJoCo XLA (MJX)**](https://github.com/google-deepmind/mujoco/blob/main/mjx), a JAX-based implementation of MuJoCo useful for RL training workloads.\n",
        "\n",
        "**A Colab runtime with GPU acceleration is required.** If you're using a CPU-only runtime, you can switch using the menu \"Runtime > Change runtime type\".\n",
        "\n",
        "\n",
        "\n",
        "\n",
        "\n",
        "\n",
        "\n",
        "\n"
      ]
    },
    {
      "cell_type": "markdown",
      "metadata": {
        "id": "xBSdkbmGN2K-"
      },
      "source": [
        "### Copyright notice"
      ]
    },
    {
      "cell_type": "markdown",
      "metadata": {
        "id": "_UbO9uhtBSX5"
      },
      "source": [
        "> <p><small><small>Copyright 2023 DeepMind Technologies Limited.</small></p>\n",
        "> <p><small><small>Licensed under the Apache License, Version 2.0 (the \"License\"); you may not use this file except in compliance with the License. You may obtain a copy of the License at <a href=\"http://www.apache.org/licenses/LICENSE-2.0\">http://www.apache.org/licenses/LICENSE-2.0</a>.</small></small></p>\n",
        "> <p><small><small>Unless required by applicable law or agreed to in writing, software distributed under the License is distributed on an \"AS IS\" BASIS, WITHOUT WARRANTIES OR CONDITIONS OF ANY KIND, either express or implied. See the License for the specific language governing permissions and limitations under the License.</small></small></p>"
      ]
    },
    {
      "cell_type": "markdown",
      "metadata": {
        "id": "YvyGCsgSCxHQ"
      },
      "source": [
        "# Install MuJoCo, MJX, and Brax"
      ]
    },
    {
      "cell_type": "code",
      "execution_count": null,
      "metadata": {
        "id": "Xqo7pyX-n72M"
      },
      "outputs": [],
      "source": [
        "!pip install mujoco\n",
        "!pip install mujoco_mjx\n",
        "!pip install brax\n"
      ]
    },
    {
      "cell_type": "code",
      "execution_count": null,
      "metadata": {
        "cellView": "form",
        "id": "IbZxYDxzoz5R"
      },
      "outputs": [],
      "source": [
        "#@title Check if MuJoCo installation was successful\n",
        "\n",
        "from google.colab import files\n",
        "\n",
        "import distutils.util\n",
        "import os\n",
        "import subprocess\n",
        "if subprocess.run('nvidia-smi').returncode:\n",
        "  raise RuntimeError(\n",
        "      'Cannot communicate with GPU. '\n",
        "      'Make sure you are using a GPU Colab runtime. '\n",
        "      'Go to the Runtime menu and select Choose runtime type.')\n",
        "\n",
        "# Add an ICD config so that glvnd can pick up the Nvidia EGL driver.\n",
        "# This is usually installed as part of an Nvidia driver package, but the Colab\n",
        "# kernel doesn't install its driver via APT, and as a result the ICD is missing.\n",
        "# (https://github.com/NVIDIA/libglvnd/blob/master/src/EGL/icd_enumeration.md)\n",
        "NVIDIA_ICD_CONFIG_PATH = '/usr/share/glvnd/egl_vendor.d/10_nvidia.json'\n",
        "if not os.path.exists(NVIDIA_ICD_CONFIG_PATH):\n",
        "  with open(NVIDIA_ICD_CONFIG_PATH, 'w') as f:\n",
        "    f.write(\"\"\"{\n",
        "    \"file_format_version\" : \"1.0.0\",\n",
        "    \"ICD\" : {\n",
        "        \"library_path\" : \"libEGL_nvidia.so.0\"\n",
        "    }\n",
        "}\n",
        "\"\"\")\n",
        "\n",
        "# Configure MuJoCo to use the EGL rendering backend (requires GPU)\n",
        "print('Setting environment variable to use GPU rendering:')\n",
        "%env MUJOCO_GL=egl\n",
        "\n",
        "try:\n",
        "  print('Checking that the installation succeeded:')\n",
        "  import mujoco\n",
        "  mujoco.MjModel.from_xml_string('<mujoco/>')\n",
        "except Exception as e:\n",
        "  raise e from RuntimeError(\n",
        "      'Something went wrong during installation. Check the shell output above '\n",
        "      'for more information.\\n'\n",
        "      'If using a hosted Colab runtime, make sure you enable GPU acceleration '\n",
        "      'by going to the Runtime menu and selecting \"Choose runtime type\".')\n",
        "\n",
        "print('Installation successful.')\n",
        "\n",
        "# Tell XLA to use Triton GEMM, this improves steps/sec by ~30% on some GPUs\n",
        "xla_flags = os.environ.get('XLA_FLAGS', '')\n",
        "xla_flags += ' --xla_gpu_triton_gemm_any=True'\n",
        "os.environ['XLA_FLAGS'] = xla_flags\n"
      ]
    },
    {
      "cell_type": "code",
      "execution_count": null,
      "metadata": {
        "cellView": "form",
        "id": "T5f4w3Kq2X14"
      },
      "outputs": [],
      "source": [
        "#@title Import packages for plotting and creating graphics\n",
        "import time\n",
        "import itertools\n",
        "import numpy as np\n",
        "from typing import Callable, NamedTuple, Optional, Union, List\n",
        "\n",
        "# Graphics and plotting.\n",
        "print('Installing mediapy:')\n",
        "!command -v ffmpeg >/dev/null || (apt update && apt install -y ffmpeg)\n",
        "!pip install -q mediapy\n",
        "import mediapy as media\n",
        "import matplotlib.pyplot as plt\n",
        "\n",
        "# More legible printing from numpy.\n",
        "np.set_printoptions(precision=3, suppress=True, linewidth=100)"
      ]
    },
    {
      "cell_type": "code",
      "execution_count": null,
      "metadata": {
        "cellView": "form",
        "id": "ObF1UXrkb0Nd"
      },
      "outputs": [],
      "source": [
        "#@title Import MuJoCo, MJX, and Brax\n",
        "from datetime import datetime\n",
        "from etils import epath\n",
        "import functools\n",
        "from IPython.display import HTML\n",
        "from typing import Any, Dict, Sequence, Tuple, Union\n",
        "import os\n",
        "from ml_collections import config_dict\n",
        "\n",
        "\n",
        "import jax\n",
        "from jax import numpy as jp\n",
        "import numpy as np\n",
        "from flax.training import orbax_utils\n",
        "from flax import struct\n",
        "from matplotlib import pyplot as plt\n",
        "import mediapy as media\n",
        "from orbax import checkpoint as ocp\n",
        "\n",
        "import mujoco\n",
        "from mujoco import mjx\n",
        "\n",
        "from brax import base\n",
        "from brax import envs\n",
        "from brax import math\n",
        "from brax.base import Base, Motion, Transform\n",
        "from brax.base import State as PipelineState\n",
        "from brax.envs.base import Env, PipelineEnv, State\n",
        "from brax.mjx.base import State as MjxState\n",
        "from brax.training.agents.ppo import train as ppo\n",
        "from brax.training.agents.ppo import networks as ppo_networks\n",
        "from brax.io import html, mjcf, model"
      ]
    },
    {
      "cell_type": "markdown",
      "metadata": {
        "id": "Nj4-Xmx4DFaq"
      },
      "source": [
        "# Introduction to MJX\n",
        "\n",
        "MJX is an implementation of MuJoCo written in [JAX](https://jax.readthedocs.io/en/latest/index.html), enabling large batch training on GPU/TPU. In this notebook, we will demonstrate how to train RL policies with MJX.\n",
        "\n",
        "Before we get into hefty RL workloads, let's get started with a simpler example! The entrypoint into MJX is through MuJoCo, so first we load a MuJoCo model:"
      ]
    },
    {
      "cell_type": "code",
      "execution_count": null,
      "metadata": {
        "id": "bNus3mbbDz6a"
      },
      "outputs": [],
      "source": [
        "xml = \"\"\"\n",
        "<mujoco>\n",
        "  <worldbody>\n",
        "    <light name=\"top\" pos=\"0 0 1\"/>\n",
        "    <body name=\"box_and_sphere\" euler=\"0 0 -30\">\n",
        "      <joint name=\"swing\" type=\"hinge\" axis=\"1 -1 0\" pos=\"-.2 -.2 -.2\"/>\n",
        "      <geom name=\"red_box\" type=\"box\" size=\".2 .2 .2\" rgba=\"1 0 0 1\"/>\n",
        "      <geom name=\"green_sphere\" pos=\".2 .2 .2\" size=\".1\" rgba=\"0 1 0 1\"/>\n",
        "    </body>\n",
        "  </worldbody>\n",
        "</mujoco>\n",
        "\"\"\"\n",
        "\n",
        "# Make model, data, and renderer\n",
        "mj_model = mujoco.MjModel.from_xml_string(xml)\n",
        "mj_data = mujoco.MjData(mj_model)\n",
        "renderer = mujoco.Renderer(mj_model)"
      ]
    },
    {
      "cell_type": "markdown",
      "metadata": {
        "id": "Po5oykJbFQbj"
      },
      "source": [
        "Next we take the MuJoCo model and data, and place them on the GPU device using MJX."
      ]
    },
    {
      "cell_type": "code",
      "execution_count": null,
      "metadata": {
        "id": "TSpoOWqeEC3P"
      },
      "outputs": [],
      "source": [
        "mjx_model = mjx.put_model(mj_model)\n",
        "mjx_data = mjx.put_data(mj_model, mj_data)"
      ]
    },
    {
      "cell_type": "markdown",
      "metadata": {
        "id": "6rxMMSs4OJJf"
      },
      "source": [
        "Below, we print the `qpos` from MuJoCo and MJX. Notice that the `qpos` for the mjData is a numpy array living on the CPU, while the `qpos` for `mjx.Data` is a JAX Array living on the GPU device."
      ]
    },
    {
      "cell_type": "code",
      "execution_count": null,
      "metadata": {
        "id": "ZOD582pfOLP-"
      },
      "outputs": [],
      "source": [
        "print(mj_data.qpos, type(mj_data.qpos))\n",
        "print(mjx_data.qpos, type(mjx_data.qpos), mjx_data.qpos.devices())"
      ]
    },
    {
      "cell_type": "markdown",
      "metadata": {
        "id": "ZShF9-o_JLm3"
      },
      "source": [
        "Let's run the simulation in MuJoCo and render the trajectory. This example is taken from the [MuJoCo tutorial](https://colab.sandbox.google.com/github/google-deepmind/mujoco/blob/main/python/tutorial.ipynb)."
      ]
    },
    {
      "cell_type": "code",
      "execution_count": null,
      "metadata": {
        "id": "HDlPlX05I3m-"
      },
      "outputs": [],
      "source": [
        "# enable joint visualization option:\n",
        "scene_option = mujoco.MjvOption()\n",
        "scene_option.flags[mujoco.mjtVisFlag.mjVIS_JOINT] = True\n",
        "\n",
        "duration = 3.8  # (seconds)\n",
        "framerate = 60  # (Hz)\n",
        "\n",
        "frames = []\n",
        "mujoco.mj_resetData(mj_model, mj_data)\n",
        "while mj_data.time < duration:\n",
        "  mujoco.mj_step(mj_model, mj_data)\n",
        "  if len(frames) < mj_data.time * framerate:\n",
        "    renderer.update_scene(mj_data, scene_option=scene_option)\n",
        "    pixels = renderer.render()\n",
        "    frames.append(pixels)\n",
        "\n",
        "# Simulate and display video.\n",
        "media.show_video(frames, fps=framerate)"
      ]
    },
    {
      "cell_type": "markdown",
      "metadata": {
        "id": "m70b_RxBJOyd"
      },
      "source": [
        "Now let's run the same exact simulation on the GPU device using MJX!\n",
        "\n",
        "In the example below, we use `mjx.step` instead of `mujoco.mj_step`, and we also [`jax.jit`](https://jax.readthedocs.io/en/latest/jax-101/02-jitting.html) the `mjx.step` so that it runs efficiently on the GPU. For each frame, we convert the `mjx.Data` back to `mjData` so that we can use the MuJoCo renderer.\n"
      ]
    },
    {
      "cell_type": "code",
      "execution_count": null,
      "metadata": {
        "id": "Pr29xq0-JRQv"
      },
      "outputs": [],
      "source": [
        "\n",
        "jit_step = jax.jit(mjx.step)\n",
        "\n",
        "frames = []\n",
        "mujoco.mj_resetData(mj_model, mj_data)\n",
        "mjx_data = mjx.put_data(mj_model, mj_data)\n",
        "while mjx_data.time < duration:\n",
        "  mjx_data = jit_step(mjx_model, mjx_data)\n",
        "  if len(frames) < mjx_data.time * framerate:\n",
        "    mj_data = mjx.get_data(mj_model, mjx_data)\n",
        "    renderer.update_scene(mj_data, scene_option=scene_option)\n",
        "    pixels = renderer.render()\n",
        "    frames.append(pixels)\n",
        "\n",
        "media.show_video(frames, fps=framerate)"
      ]
    },
    {
      "cell_type": "markdown",
      "metadata": {
        "id": "wXsQ4qO2KO3Q"
      },
      "source": [
        "Running single threaded physics simulation on the GPU is not very [efficient](https://mujoco.readthedocs.io/en/stable/mjx.html#mjx-the-sharp-bits). The advantage with MJX is that we can run environments in parallel on a hardware accelerated device. Let's try it out!\n",
        "\n",
        "In the example below, we create 4096 copies of the `mjx.Data` and we run the `mjx.step` over the batched data. Since MJX is implemented in JAX, we take advantage of [`jax.vmap`](https://jax.readthedocs.io/en/latest/_autosummary/jax.vmap.html) to run the `mjx.step` in parallel over all `mjx.Data`."
      ]
    },
    {
      "cell_type": "code",
      "execution_count": null,
      "metadata": {
        "id": "rrdrcKRVK6w9"
      },
      "outputs": [],
      "source": [
        "rng = jax.random.PRNGKey(0)\n",
        "rng = jax.random.split(rng, 4096)\n",
        "batch = jax.vmap(lambda rng: mjx_data.replace(qpos=jax.random.uniform(rng, (1,))))(rng)\n",
        "\n",
        "jit_step = jax.jit(jax.vmap(mjx.step, in_axes=(None, 0)))\n",
        "batch = jit_step(mjx_model, batch)\n",
        "\n",
        "print(batch.qpos)"
      ]
    },
    {
      "cell_type": "markdown",
      "metadata": {
        "id": "x4lL220cOj0q"
      },
      "source": [
        "We can copy the batched `mjx.Data` back to MuJoCo like we did before:"
      ]
    },
    {
      "cell_type": "code",
      "execution_count": null,
      "metadata": {
        "id": "Jtz7j1PDOnw5"
      },
      "outputs": [],
      "source": [
        "batched_mj_data = mjx.get_data(mj_model, batch)\n",
        "print([d.qpos for d in batched_mj_data])"
      ]
    },
    {
      "cell_type": "markdown",
      "metadata": {
        "id": "RAv6WUVUm78k"
      },
      "source": [
        "# Simple ENV with spider\n",
        "\n"
      ]
    },
    {
      "cell_type": "code",
      "execution_count": null,
      "metadata": {
        "id": "mtGMYNLE3QJN",
        "cellView": "form"
      },
      "outputs": [],
      "source": [
        "#@title Humanoid Env\n",
        "\n",
        "# HUMANOID_ROOT_PATH = epath.Path(epath.resource_path('mujoco')) / 'mjx/test_data/humanoid'\n",
        "\n",
        "class Humanoid(PipelineEnv):\n",
        "\n",
        "  def __init__(\n",
        "      self,\n",
        "      forward_reward_weight=1.25,\n",
        "      ctrl_cost_weight=0.1,\n",
        "      healthy_reward=5.0,\n",
        "      terminate_when_unhealthy=True,\n",
        "      healthy_z_range=(1.0, 2.0),\n",
        "      reset_noise_scale=1e-2,\n",
        "      exclude_current_positions_from_observation=True,\n",
        "      **kwargs,\n",
        "  ):\n",
        "#\n",
        "    # Generate a simple spider XML model\n",
        "    spider_xml = \"\"\"\n",
        "<mujoco>\n",
        "  <worldbody>\n",
        "    <light name=\"top\" pos=\"0 0 1\"/>\n",
        "    <geom name=\"floor\" type=\"plane\" size=\"10 10 .1\" rgba=\".9 .9 .9 1\"/>\n",
        "    <body name=\"torso\" pos=\"0 0 0.5\">\n",
        "      <geom type=\"sphere\" size=\"0.1\" rgba=\"1 0 0 1\"/>\n",
        "      <joint type=\"free\"/>\n",
        "      <body name=\"leg1\" pos=\"0.1 0 0\">\n",
        "        <joint name=\"joint1\" type=\"hinge\" axis=\"0 1 0\" pos=\"0 0 0\" range=\"-180 180\"/> <!-- Added range -->\n",
        "        <geom type=\"capsule\" fromto=\".0 .0 .0 .3 .0 .0\" size=\".02\" rgba=\"0 1 0 1\"/>\n",
        "        <body name=\"foot1\" pos=\".3 0 0\">\n",
        "          <joint name=\"joint2\" type=\"hinge\" axis=\"0 1 0\" pos=\"0 0 0\" range=\"-180 180\"/> <!-- Added range -->\n",
        "          <geom type=\"capsule\" fromto=\".0 .0 .0 .3 .0 .0\" size=\".02\" rgba=\"0 1 0 1\"/>\n",
        "        </body>\n",
        "      </body>\n",
        "       <body name=\"leg2\" pos=\"-0.1 0 0\">\n",
        "        <joint name=\"joint3\" type=\"hinge\" axis=\"0 1 0\" pos=\"0 0 0\" range=\"-180 180\"/> <!-- Added range -->\n",
        "        <geom type=\"capsule\" fromto=\".0 .0 .0 -.3 .0 .0\" size=\".02\" rgba=\"0 1 0 1\"/>\n",
        "        <body name=\"foot2\" pos=\"-.3 0 0\">\n",
        "          <joint name=\"joint4\" type=\"hinge\" axis=\"0 1 0\" pos=\"0 0 0\" range=\"-180 180\"/> <!-- Added range -->\n",
        "          <geom type=\"capsule\" fromto=\".0 .0 .0 -.3 .0 .0\" size=\".02\" rgba=\"0 1 0 1\"/>\n",
        "        </body>\n",
        "      </body>\n",
        "       <body name=\"leg3\" pos=\"0 0.1 0\">\n",
        "        <joint name=\"joint5\" type=\"hinge\" axis=\"1 0 0\" pos=\"0 0 0\" range=\"-180 180\"/> <!-- Added range -->\n",
        "        <geom type=\"capsule\" fromto=\".0 .0 .0 .0 .3 .0\" size=\".02\" rgba=\"0 1 0 1\"/>\n",
        "         <body name=\"foot3\" pos=\"0 .3 0\">\n",
        "          <joint name=\"joint6\" type=\"hinge\" axis=\"1 0 0\" pos=\"0 0 0\" range=\"-180 180\"/> <!-- Added range -->\n",
        "          <geom type=\"capsule\" fromto=\".0 .0 .0 .0 .3 .0\" size=\".02\" rgba=\"0 1 0 1\"/>\n",
        "        </body>\n",
        "      </body>\n",
        "       <body name=\"leg4\" pos=\"0 -0.1 0\">\n",
        "        <joint name=\"joint7\" type=\"hinge\" axis=\"1 0 0\" pos=\"0 0 0\" range=\"-180 180\"/> <!-- Added range -->\n",
        "        <geom type=\"capsule\" fromto=\".0 .0 .0 .0 -.3 .0\" size=\".02\" rgba=\"0 1 0 1\"/>\n",
        "        <body name=\"foot4\" pos=\"0 -.3 0\">\n",
        "          <joint name=\"joint8\" type=\"hinge\" axis=\"1 0 0\" pos=\"0 0 0\" range=\"-180 180\"/> <!-- Added range -->\n",
        "          <geom type=\"capsule\" fromto=\".0 .0 .0 .0 -.3 .0\" size=\".02\" rgba=\"0 1 0 1\"/>\n",
        "        </body>\n",
        "      </body>\n",
        "    </body>\n",
        "  </worldbody>\n",
        "  <actuator>\n",
        "    <motor name=\"act1\" joint=\"joint1\"/>\n",
        "    <motor name=\"act2\" joint=\"joint2\"/>\n",
        "    <motor name=\"act3\" joint=\"joint3\"/>\n",
        "    <motor name=\"act4\" joint=\"joint4\"/>\n",
        "    <motor name=\"act5\" joint=\"joint5\"/>\n",
        "    <motor name=\"act6\" joint=\"joint6\"/>\n",
        "    <motor name=\"act7\" joint=\"joint7\"/>\n",
        "    <motor name=\"act8\" joint=\"joint8\"/>\n",
        "  </actuator>\n",
        "</mujoco>\n",
        "\"\"\"\n",
        "\n",
        "    mj_model = mujoco.MjModel.from_xml_string(spider_xml)\n",
        "    mj_data = mujoco.MjData(mj_model) # Create mj_data\n",
        "    mj_model.opt.solver = mujoco.mjtSolver.mjSOL_CG\n",
        "    mj_model.opt.iterations = 6\n",
        "    mj_model.opt.ls_iterations = 6\n",
        "\n",
        "    sys = mjcf.load_model(mj_model)\n",
        "\n",
        "    physics_steps_per_control_step = 5\n",
        "    kwargs['n_frames'] = kwargs.get(\n",
        "        'n_frames', physics_steps_per_control_step)\n",
        "    kwargs['backend'] = 'mjx'\n",
        "\n",
        "    super().__init__(sys, **kwargs)\n",
        "\n",
        "    self._forward_reward_weight = forward_reward_weight\n",
        "    self._ctrl_cost_weight = ctrl_cost_weight\n",
        "    self._healthy_reward = healthy_reward\n",
        "    self._terminate_when_unhealthy = terminate_when_unhealthy\n",
        "    self._healthy_z_range = healthy_z_range\n",
        "    self._reset_noise_scale = reset_noise_scale\n",
        "    self._exclude_current_positions_from_observation = (\n",
        "        exclude_current_positions_from_observation\n",
        "    )\n",
        "    self._torso_body_idx = mujoco.mj_name2id(\n",
        "        self.sys.mj_model, mujoco.mjtObj.mjOBJ_BODY.value, 'torso'\n",
        "    )\n",
        "    # Store mj_data for access to qpos0 and qvel0\n",
        "    self._mj_data = mj_data\n",
        "\n",
        "\n",
        "  def reset(self, rng: jp.ndarray) -> State:\n",
        "    \"\"\"Resets the environment to an initial state.\"\"\"\n",
        "    rng, rng1, rng2 = jax.random.split(rng, 3)\n",
        "\n",
        "    low, hi = -self._reset_noise_scale, self._reset_noise_scale\n",
        "    qpos = jp.asarray(self._mj_data.qpos) + jax.random.uniform(\n",
        "        rng1, (self.sys.nq,), minval=low, maxval=hi\n",
        "    )\n",
        "    qvel = jp.asarray(self._mj_data.qvel) + jax.random.uniform(\n",
        "        rng2, (self.sys.nv,), minval=low, maxval=hi\n",
        "    )\n",
        "\n",
        "    data = self.pipeline_init(qpos, qvel)\n",
        "\n",
        "    obs = self._get_obs(data, jp.zeros(self.sys.nu))\n",
        "    reward, done, zero = jp.zeros(3)\n",
        "    metrics = {\n",
        "        'forward_reward': zero,\n",
        "        'reward_linvel': zero,\n",
        "        'reward_quadctrl': zero,\n",
        "        'reward_alive': zero,\n",
        "        'x_position': zero,\n",
        "        'y_position': zero,\n",
        "        'distance_from_origin': zero,\n",
        "        'x_velocity': zero,\n",
        "        'y_velocity': zero,\n",
        "    }\n",
        "    return State(data, obs, reward, done, metrics)\n",
        "\n",
        "  def step(self, state: State, action: jp.ndarray) -> State:\n",
        "    \"\"\"Runs one timestep of the environment's dynamics.\"\"\"\n",
        "    data0 = state.pipeline_state\n",
        "    data = self.pipeline_step(data0, action)\n",
        "\n",
        "    # Calculate forward velocity using the torso's velocity\n",
        "    torso_velocity = data.cvel[self._torso_body_idx, 0]\n",
        "    forward_reward = self._forward_reward_weight * torso_velocity\n",
        "\n",
        "\n",
        "    min_z, max_z = self._healthy_z_range\n",
        "    is_healthy = jp.where(data.q[2] < min_z, 0.0, 1.0)\n",
        "    is_healthy = jp.where(data.q[2] > max_z, 0.0, is_healthy)\n",
        "    if self._terminate_when_unhealthy:\n",
        "      healthy_reward = self._healthy_reward\n",
        "    else:\n",
        "      healthy_reward = self._healthy_reward * is_healthy\n",
        "\n",
        "    ctrl_cost = self._ctrl_cost_weight * jp.sum(jp.square(action))\n",
        "\n",
        "    obs = self._get_obs(data, action)\n",
        "    reward = forward_reward + healthy_reward - ctrl_cost\n",
        "    done = 1.0 - is_healthy if self._terminate_when_unhealthy else 0.0\n",
        "    state.metrics.update(\n",
        "        forward_reward=forward_reward,\n",
        "        reward_linvel=forward_reward,\n",
        "        reward_quadctrl=-ctrl_cost,\n",
        "        reward_alive=healthy_reward,\n",
        "        x_position=data.xpos[self._torso_body_idx, 0],\n",
        "        y_position=data.xpos[self._torso_body_idx, 1],\n",
        "        distance_from_origin=jp.linalg.norm(data.xpos[self._torso_body_idx, :2]),\n",
        "        x_velocity=torso_velocity,\n",
        "        y_velocity=data.cvel[self._torso_body_idx, 1],\n",
        "    )\n",
        "\n",
        "    return state.replace(\n",
        "        pipeline_state=data, obs=obs, reward=reward, done=done\n",
        "    )\n",
        "\n",
        "  def _get_obs(\n",
        "      self, data: mjx.Data, action: jp.ndarray\n",
        "  ) -> jp.ndarray:\n",
        "    \"\"\"Observes humanoid body position, velocities, and angles.\"\"\"\n",
        "    # Simplified observation: torso z-position and x-velocity\n",
        "    return jp.concatenate([\n",
        "        data.qpos[2:3],  # Torso z-position\n",
        "        data.cvel[self._torso_body_idx, 0:1], # Torso x-velocity\n",
        "    ])\n",
        "\n",
        "\n",
        "envs.register_environment('humanoid', Humanoid)\n",
        "\n",
        "# Add code to get and print the observation shape\n",
        "env_test = Humanoid()\n",
        "dummy_data = mujoco.MjData(env_test.sys.mj_model) # Use mj_data\n",
        "dummy_obs = env_test._get_obs(env_test.pipeline_init(jp.asarray(dummy_data.qpos), jp.asarray(dummy_data.qvel)), jp.zeros(env_test.sys.nu))\n",
        "print(\"Observation shape:\", dummy_obs.shape)"
      ]
    },
    {
      "cell_type": "markdown",
      "metadata": {
        "id": "P1K6IznI2y83"
      },
      "source": [
        "## Visualize a Rollout\n",
        "\n",
        "Let's instantiate the environment and visualize a short rollout.\n",
        "\n",
        "NOTE: Since episodes terminate early if the torso is below the healthy z-range, the only relevant contacts for this task are between the feet and the plane. We turn off other contacts."
      ]
    },
    {
      "cell_type": "code",
      "execution_count": null,
      "metadata": {
        "id": "EhKLFK54C1CH"
      },
      "outputs": [],
      "source": [
        "# instantiate the environment\n",
        "env_name = 'humanoid'\n",
        "env = envs.get_environment(env_name)\n",
        "\n",
        "# define the jit reset/step functions\n",
        "jit_reset = jax.jit(env.reset)\n",
        "jit_step = jax.jit(env.step)\n"
      ]
    },
    {
      "cell_type": "code",
      "execution_count": null,
      "metadata": {
        "id": "Ph8u-v2Q2xLS"
      },
      "outputs": [],
      "source": [
        "# initialize the state\n",
        "state = jit_reset(jax.random.PRNGKey(0))\n",
        "rollout = [state.pipeline_state]\n",
        "\n",
        "# grab a trajectory\n",
        "for i in range(100):\n",
        "  ctrl = jp.zeros(env.sys.nu) # Set control input to zero for standing still\n",
        "  state = jit_step(state, ctrl)\n",
        "  rollout.append(state.pipeline_state)\n",
        "\n",
        "media.show_video(env.render(rollout), fps=1.0 / env.dt)"
      ]
    },
    {
      "cell_type": "markdown",
      "source": [],
      "metadata": {
        "id": "O0zQEttGONfi"
      }
    },
    {
      "cell_type": "code",
      "source": [
        "print(\"Observation space:\", env.observation_size)"
      ],
      "metadata": {
        "id": "42pERvKYOOWl"
      },
      "execution_count": null,
      "outputs": []
    },
    {
      "cell_type": "markdown",
      "metadata": {
        "id": "BQDG6NQ1CbZD"
      },
      "source": [
        "## Train Humanoid Policy\n"
      ]
    },
    {
      "cell_type": "code",
      "source": [
        "train_fn = functools.partial(\n",
        "    ppo.train, num_timesteps=20_000_00, num_evals=5, reward_scaling=0.1,\n",
        "    episode_length=1000, normalize_observations=True, action_repeat=1,\n",
        "    unroll_length=10, num_minibatches=24, num_updates_per_batch=8,\n",
        "    discounting=0.97, learning_rate=3e-4, entropy_cost=1e-3, num_envs=3072,\n",
        "    batch_size=512, seed=0)\n",
        "\n",
        "\n",
        "x_data = []\n",
        "y_data = []\n",
        "ydataerr = []\n",
        "times = [datetime.now()]\n",
        "\n",
        "max_y, min_y = 50, 0 # Adjusted max_y for potentially higher rewards\n",
        "def progress(num_steps, metrics):\n",
        "  times.append(datetime.now())\n",
        "  x_data.append(num_steps)\n",
        "  y_data.append(metrics['eval/episode_reward'])\n",
        "  ydataerr.append(metrics['eval/episode_reward_std'])\n",
        "\n",
        "  plt.xlim([0, train_fn.keywords['num_timesteps'] * 1.25])\n",
        "  plt.ylim([min_y, max_y])\n",
        "\n",
        "  plt.xlabel('# environment steps')\n",
        "  plt.ylabel('reward per episode')\n",
        "  plt.title(f'y={y_data[-1]:.3f}')\n",
        "\n",
        "  plt.errorbar(\n",
        "      x_data, y_data, yerr=ydataerr)\n",
        "  plt.show()\n",
        "\n",
        "print(\"Observation space size:\", env.observation_size)\n",
        "print(\"Action space size:\", env.action_size)\n",
        "make_inference_fn, params, _= train_fn(environment=env, progress_fn=progress)\n",
        "\n",
        "print(f'time to jit: {times[1] - times[0]}')\n",
        "print(f'time to train: {times[-1] - times[1]}')"
      ],
      "metadata": {
        "id": "XWV5jCfaUpIl"
      },
      "execution_count": null,
      "outputs": []
    },
    {
      "cell_type": "markdown",
      "metadata": {
        "id": "YYIch0HEApBx"
      },
      "source": [
        "<!-- ## Save and Load Policy -->\n",
        "\n",
        "We can save and load the policy using the brax model API."
      ]
    },
    {
      "cell_type": "code",
      "source": [],
      "metadata": {
        "id": "j4Jk9BSbUbPJ"
      },
      "execution_count": null,
      "outputs": []
    },
    {
      "cell_type": "code",
      "execution_count": null,
      "metadata": {
        "id": "Z8gI6qH6ApBx"
      },
      "outputs": [],
      "source": [
        "#@title Save Model\n",
        "model_path = '/tmp/mjx_brax_policy'\n",
        "model.save_params(model_path, params)"
      ]
    },
    {
      "cell_type": "code",
      "execution_count": null,
      "metadata": {
        "id": "h4reaWgxApBx"
      },
      "outputs": [],
      "source": [
        "#@title Load Model and Define Inference Function\n",
        "params = model.load_params(model_path)\n",
        "\n",
        "inference_fn = make_inference_fn(params)\n",
        "jit_inference_fn = jax.jit(inference_fn)"
      ]
    },
    {
      "cell_type": "markdown",
      "metadata": {
        "id": "0G357XIfApBy"
      },
      "source": [
        "## Visualize Policy\n",
        "\n",
        "Finally we can visualize the policy."
      ]
    },
    {
      "cell_type": "code",
      "execution_count": null,
      "metadata": {
        "id": "osYasMw4ApBy"
      },
      "outputs": [],
      "source": [
        "eval_env = envs.get_environment(env_name)\n",
        "\n",
        "jit_reset = jax.jit(eval_env.reset)\n",
        "jit_step = jax.jit(eval_env.step)"
      ]
    },
    {
      "cell_type": "code",
      "execution_count": null,
      "metadata": {
        "id": "d-UhypudApBy"
      },
      "outputs": [],
      "source": [
        "# initialize the state\n",
        "rng = jax.random.PRNGKey(0)\n",
        "state = jit_reset(rng)\n",
        "rollout = [state.pipeline_state]\n",
        "\n",
        "# grab a trajectory\n",
        "n_steps = 500\n",
        "render_every = 2\n",
        "\n",
        "for i in range(n_steps):\n",
        "  act_rng, rng = jax.random.split(rng)\n",
        "  ctrl, _ = jit_inference_fn(state.obs, act_rng)\n",
        "  state = jit_step(state, ctrl)\n",
        "  rollout.append(state.pipeline_state)\n",
        "\n",
        "  if state.done:\n",
        "    break\n",
        "\n",
        "media.show_video(env.render(rollout[::render_every]), fps=1.0 / env.dt / render_every)"
      ]
    },
    {
      "cell_type": "code",
      "source": [],
      "metadata": {
        "id": "XMHZ6IFlaSG7"
      },
      "execution_count": null,
      "outputs": []
    }
  ],
  "metadata": {
    "accelerator": "GPU",
    "colab": {
      "gpuClass": "premium",
      "gpuType": "T4",
      "private_outputs": true,
      "provenance": [],
      "toc_visible": true
    },
    "kernelspec": {
      "display_name": "Python 3",
      "name": "python3"
    }
  },
  "nbformat": 4,
  "nbformat_minor": 0
}